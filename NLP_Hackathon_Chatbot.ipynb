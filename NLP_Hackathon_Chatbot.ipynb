{
 "cells": [
  {
   "cell_type": "code",
   "execution_count": 1,
   "metadata": {
    "_cell_guid": "b1076dfc-b9ad-4769-8c92-a6c4dae69d19",
    "_uuid": "8f2839f25d086af736a60e9eeb907d3b93b6e0e5",
    "execution": {
     "iopub.execute_input": "2020-09-04T08:35:19.779120Z",
     "iopub.status.busy": "2020-09-04T08:35:19.778393Z",
     "iopub.status.idle": "2020-09-04T08:35:21.678334Z",
     "shell.execute_reply": "2020-09-04T08:35:21.677551Z"
    },
    "papermill": {
     "duration": 1.912884,
     "end_time": "2020-09-04T08:35:21.678459",
     "exception": false,
     "start_time": "2020-09-04T08:35:19.765575",
     "status": "completed"
    },
    "tags": []
   },
   "outputs": [],
   "source": [
    "import numpy as np \n",
    "import string\n",
    "from nltk.corpus import stopwords\n",
    "import pandas as pd \n",
    "from sklearn.feature_extraction.text import CountVectorizer\n",
    "from sklearn.tree import DecisionTreeClassifier\n",
    "from sklearn.feature_extraction.text import TfidfTransformer,TfidfVectorizer\n",
    "from sklearn.pipeline import Pipeline\n",
    "from sklearn.ensemble import RandomForestClassifier"
   ]
  },
  {
   "cell_type": "code",
   "execution_count": 2,
   "metadata": {
    "execution": {
     "iopub.execute_input": "2020-09-04T08:35:21.700624Z",
     "iopub.status.busy": "2020-09-04T08:35:21.699854Z",
     "iopub.status.idle": "2020-09-04T08:35:21.727881Z",
     "shell.execute_reply": "2020-09-04T08:35:21.727194Z"
    },
    "papermill": {
     "duration": 0.042283,
     "end_time": "2020-09-04T08:35:21.728000",
     "exception": false,
     "start_time": "2020-09-04T08:35:21.685717",
     "status": "completed"
    },
    "tags": []
   },
   "outputs": [],
   "source": [
    "df = pd.read_csv('TrainData.txt',sep='\\t')"
   ]
  },
  {
   "cell_type": "code",
   "execution_count": 3,
   "metadata": {
    "execution": {
     "iopub.execute_input": "2020-09-04T08:35:21.745238Z",
     "iopub.status.busy": "2020-09-04T08:35:21.744419Z",
     "iopub.status.idle": "2020-09-04T08:35:21.747388Z",
     "shell.execute_reply": "2020-09-04T08:35:21.746749Z"
    },
    "papermill": {
     "duration": 0.013483,
     "end_time": "2020-09-04T08:35:21.747500",
     "exception": false,
     "start_time": "2020-09-04T08:35:21.734017",
     "status": "completed"
    },
    "tags": []
   },
   "outputs": [],
   "source": [
    "a = pd.Series(df.columns)"
   ]
  },
  {
   "cell_type": "code",
   "execution_count": 4,
   "metadata": {
    "execution": {
     "iopub.execute_input": "2020-09-04T08:35:21.774645Z",
     "iopub.status.busy": "2020-09-04T08:35:21.767915Z",
     "iopub.status.idle": "2020-09-04T08:35:21.783360Z",
     "shell.execute_reply": "2020-09-04T08:35:21.782838Z"
    },
    "papermill": {
     "duration": 0.029898,
     "end_time": "2020-09-04T08:35:21.783469",
     "exception": false,
     "start_time": "2020-09-04T08:35:21.753571",
     "status": "completed"
    },
    "tags": []
   },
   "outputs": [
    {
     "data": {
      "text/html": [
       "<div>\n",
       "<style scoped>\n",
       "    .dataframe tbody tr th:only-of-type {\n",
       "        vertical-align: middle;\n",
       "    }\n",
       "\n",
       "    .dataframe tbody tr th {\n",
       "        vertical-align: top;\n",
       "    }\n",
       "\n",
       "    .dataframe thead th {\n",
       "        text-align: right;\n",
       "    }\n",
       "</style>\n",
       "<table border=\"1\" class=\"dataframe\">\n",
       "  <thead>\n",
       "    <tr style=\"text-align: right;\">\n",
       "      <th></th>\n",
       "      <th>Answer</th>\n",
       "      <th>Question</th>\n",
       "    </tr>\n",
       "  </thead>\n",
       "  <tbody>\n",
       "    <tr>\n",
       "      <th>0</th>\n",
       "      <td>Yes. It's absolutely beautiful today.</td>\n",
       "      <td>The weather is great isn't it?</td>\n",
       "    </tr>\n",
       "    <tr>\n",
       "      <th>1</th>\n",
       "      <td>yes, i like that one, too.</td>\n",
       "      <td>that one. the one that's all black.</td>\n",
       "    </tr>\n",
       "    <tr>\n",
       "      <th>2</th>\n",
       "      <td>it's really nice.</td>\n",
       "      <td>i got it from macy's.</td>\n",
       "    </tr>\n",
       "    <tr>\n",
       "      <th>3</th>\n",
       "      <td>at 8:00 p.m.</td>\n",
       "      <td>when does it start?</td>\n",
       "    </tr>\n",
       "    <tr>\n",
       "      <th>4</th>\n",
       "      <td>nothing, except my favorite color is blue.</td>\n",
       "      <td>what's the matter with green eyes?</td>\n",
       "    </tr>\n",
       "    <tr>\n",
       "      <th>...</th>\n",
       "      <td>...</td>\n",
       "      <td>...</td>\n",
       "    </tr>\n",
       "    <tr>\n",
       "      <th>5490</th>\n",
       "      <td>people who live in hawaii are lucky.</td>\n",
       "      <td>at night i went out to eat. the food was delic...</td>\n",
       "    </tr>\n",
       "    <tr>\n",
       "      <th>5491</th>\n",
       "      <td>What is Baseball</td>\n",
       "      <td>TELL ME ABOUT BASEBALL</td>\n",
       "    </tr>\n",
       "    <tr>\n",
       "      <th>5492</th>\n",
       "      <td>okay, i'll take it out front right now.</td>\n",
       "      <td>you'll remember to do it, but you won't have t...</td>\n",
       "    </tr>\n",
       "    <tr>\n",
       "      <th>5493</th>\n",
       "      <td>you are not exactly albert einstein yourself.</td>\n",
       "      <td>you are not smart</td>\n",
       "    </tr>\n",
       "    <tr>\n",
       "      <th>5494</th>\n",
       "      <td>that's six times a year!</td>\n",
       "      <td>what do you mean?</td>\n",
       "    </tr>\n",
       "  </tbody>\n",
       "</table>\n",
       "<p>5495 rows × 2 columns</p>\n",
       "</div>"
      ],
      "text/plain": [
       "                                              Answer  \\\n",
       "0              Yes. It's absolutely beautiful today.   \n",
       "1                         yes, i like that one, too.   \n",
       "2                                  it's really nice.   \n",
       "3                                       at 8:00 p.m.   \n",
       "4         nothing, except my favorite color is blue.   \n",
       "...                                              ...   \n",
       "5490            people who live in hawaii are lucky.   \n",
       "5491                                What is Baseball   \n",
       "5492         okay, i'll take it out front right now.   \n",
       "5493   you are not exactly albert einstein yourself.   \n",
       "5494                        that's six times a year!   \n",
       "\n",
       "                                               Question  \n",
       "0                        The weather is great isn't it?  \n",
       "1                   that one. the one that's all black.  \n",
       "2                                 i got it from macy's.  \n",
       "3                                   when does it start?  \n",
       "4                    what's the matter with green eyes?  \n",
       "...                                                 ...  \n",
       "5490  at night i went out to eat. the food was delic...  \n",
       "5491                             TELL ME ABOUT BASEBALL  \n",
       "5492  you'll remember to do it, but you won't have t...  \n",
       "5493                                  you are not smart  \n",
       "5494                                  what do you mean?  \n",
       "\n",
       "[5495 rows x 2 columns]"
      ]
     },
     "execution_count": 4,
     "metadata": {},
     "output_type": "execute_result"
    }
   ],
   "source": [
    "df"
   ]
  },
  {
   "cell_type": "code",
   "execution_count": 5,
   "metadata": {
    "execution": {
     "iopub.execute_input": "2020-09-04T08:35:21.806941Z",
     "iopub.status.busy": "2020-09-04T08:35:21.806218Z",
     "iopub.status.idle": "2020-09-04T08:35:21.809623Z",
     "shell.execute_reply": "2020-09-04T08:35:21.809062Z"
    },
    "papermill": {
     "duration": 0.020224,
     "end_time": "2020-09-04T08:35:21.809785",
     "exception": false,
     "start_time": "2020-09-04T08:35:21.789561",
     "status": "completed"
    },
    "tags": []
   },
   "outputs": [],
   "source": [
    "a = a.rename({0: df.columns[0],1: df.columns[1]})"
   ]
  },
  {
   "cell_type": "code",
   "execution_count": 6,
   "metadata": {
    "execution": {
     "iopub.execute_input": "2020-09-04T08:35:21.924683Z",
     "iopub.status.busy": "2020-09-04T08:35:21.923932Z",
     "iopub.status.idle": "2020-09-04T08:35:21.927198Z",
     "shell.execute_reply": "2020-09-04T08:35:21.926609Z"
    },
    "papermill": {
     "duration": 0.017907,
     "end_time": "2020-09-04T08:35:21.927315",
     "exception": false,
     "start_time": "2020-09-04T08:35:21.909408",
     "status": "completed"
    },
    "tags": []
   },
   "outputs": [],
   "source": [
    "df = df.append(a,ignore_index=True)"
   ]
  },
  {
   "cell_type": "code",
   "execution_count": 7,
   "metadata": {
    "execution": {
     "iopub.execute_input": "2020-09-04T08:35:21.946055Z",
     "iopub.status.busy": "2020-09-04T08:35:21.945133Z",
     "iopub.status.idle": "2020-09-04T08:35:21.948690Z",
     "shell.execute_reply": "2020-09-04T08:35:21.948059Z"
    },
    "papermill": {
     "duration": 0.015124,
     "end_time": "2020-09-04T08:35:21.948804",
     "exception": false,
     "start_time": "2020-09-04T08:35:21.933680",
     "status": "completed"
    },
    "tags": []
   },
   "outputs": [],
   "source": [
    "df.columns=['Answers','Questions']"
   ]
  },
  {
   "cell_type": "code",
   "execution_count": 8,
   "metadata": {
    "execution": {
     "iopub.execute_input": "2020-09-04T08:35:21.999998Z",
     "iopub.status.busy": "2020-09-04T08:35:21.998996Z",
     "iopub.status.idle": "2020-09-04T08:35:22.003769Z",
     "shell.execute_reply": "2020-09-04T08:35:22.003185Z"
    },
    "papermill": {
     "duration": 0.022429,
     "end_time": "2020-09-04T08:35:22.003905",
     "exception": false,
     "start_time": "2020-09-04T08:35:21.981476",
     "status": "completed"
    },
    "tags": []
   },
   "outputs": [
    {
     "data": {
      "text/html": [
       "<div>\n",
       "<style scoped>\n",
       "    .dataframe tbody tr th:only-of-type {\n",
       "        vertical-align: middle;\n",
       "    }\n",
       "\n",
       "    .dataframe tbody tr th {\n",
       "        vertical-align: top;\n",
       "    }\n",
       "\n",
       "    .dataframe thead th {\n",
       "        text-align: right;\n",
       "    }\n",
       "</style>\n",
       "<table border=\"1\" class=\"dataframe\">\n",
       "  <thead>\n",
       "    <tr style=\"text-align: right;\">\n",
       "      <th></th>\n",
       "      <th>Answers</th>\n",
       "      <th>Questions</th>\n",
       "    </tr>\n",
       "  </thead>\n",
       "  <tbody>\n",
       "    <tr>\n",
       "      <th>0</th>\n",
       "      <td>Yes. It's absolutely beautiful today.</td>\n",
       "      <td>The weather is great isn't it?</td>\n",
       "    </tr>\n",
       "    <tr>\n",
       "      <th>1</th>\n",
       "      <td>yes, i like that one, too.</td>\n",
       "      <td>that one. the one that's all black.</td>\n",
       "    </tr>\n",
       "    <tr>\n",
       "      <th>2</th>\n",
       "      <td>it's really nice.</td>\n",
       "      <td>i got it from macy's.</td>\n",
       "    </tr>\n",
       "    <tr>\n",
       "      <th>3</th>\n",
       "      <td>at 8:00 p.m.</td>\n",
       "      <td>when does it start?</td>\n",
       "    </tr>\n",
       "    <tr>\n",
       "      <th>4</th>\n",
       "      <td>nothing, except my favorite color is blue.</td>\n",
       "      <td>what's the matter with green eyes?</td>\n",
       "    </tr>\n",
       "    <tr>\n",
       "      <th>...</th>\n",
       "      <td>...</td>\n",
       "      <td>...</td>\n",
       "    </tr>\n",
       "    <tr>\n",
       "      <th>5491</th>\n",
       "      <td>What is Baseball</td>\n",
       "      <td>TELL ME ABOUT BASEBALL</td>\n",
       "    </tr>\n",
       "    <tr>\n",
       "      <th>5492</th>\n",
       "      <td>okay, i'll take it out front right now.</td>\n",
       "      <td>you'll remember to do it, but you won't have t...</td>\n",
       "    </tr>\n",
       "    <tr>\n",
       "      <th>5493</th>\n",
       "      <td>you are not exactly albert einstein yourself.</td>\n",
       "      <td>you are not smart</td>\n",
       "    </tr>\n",
       "    <tr>\n",
       "      <th>5494</th>\n",
       "      <td>that's six times a year!</td>\n",
       "      <td>what do you mean?</td>\n",
       "    </tr>\n",
       "    <tr>\n",
       "      <th>5495</th>\n",
       "      <td>Answer</td>\n",
       "      <td>Question</td>\n",
       "    </tr>\n",
       "  </tbody>\n",
       "</table>\n",
       "<p>5496 rows × 2 columns</p>\n",
       "</div>"
      ],
      "text/plain": [
       "                                             Answers  \\\n",
       "0              Yes. It's absolutely beautiful today.   \n",
       "1                         yes, i like that one, too.   \n",
       "2                                  it's really nice.   \n",
       "3                                       at 8:00 p.m.   \n",
       "4         nothing, except my favorite color is blue.   \n",
       "...                                              ...   \n",
       "5491                                What is Baseball   \n",
       "5492         okay, i'll take it out front right now.   \n",
       "5493   you are not exactly albert einstein yourself.   \n",
       "5494                        that's six times a year!   \n",
       "5495                                          Answer   \n",
       "\n",
       "                                              Questions  \n",
       "0                        The weather is great isn't it?  \n",
       "1                   that one. the one that's all black.  \n",
       "2                                 i got it from macy's.  \n",
       "3                                   when does it start?  \n",
       "4                    what's the matter with green eyes?  \n",
       "...                                                 ...  \n",
       "5491                             TELL ME ABOUT BASEBALL  \n",
       "5492  you'll remember to do it, but you won't have t...  \n",
       "5493                                  you are not smart  \n",
       "5494                                  what do you mean?  \n",
       "5495                                           Question  \n",
       "\n",
       "[5496 rows x 2 columns]"
      ]
     },
     "execution_count": 8,
     "metadata": {},
     "output_type": "execute_result"
    }
   ],
   "source": [
    "df"
   ]
  },
  {
   "cell_type": "code",
   "execution_count": 9,
   "metadata": {
    "execution": {
     "iopub.execute_input": "2020-09-04T08:35:22.131780Z",
     "iopub.status.busy": "2020-09-04T08:35:22.130914Z",
     "iopub.status.idle": "2020-09-04T08:35:22.133893Z",
     "shell.execute_reply": "2020-09-04T08:35:22.133359Z"
    },
    "papermill": {
     "duration": 0.015965,
     "end_time": "2020-09-04T08:35:22.134008",
     "exception": false,
     "start_time": "2020-09-04T08:35:22.118043",
     "status": "completed"
    },
    "tags": []
   },
   "outputs": [],
   "source": [
    "def cleaner(x):\n",
    "    return [a for a in (''.join([a for a in x if a not in string.punctuation])).lower().split()]"
   ]
  },
  {
   "cell_type": "code",
   "execution_count": 10,
   "metadata": {
    "execution": {
     "iopub.execute_input": "2020-09-04T08:35:22.168519Z",
     "iopub.status.busy": "2020-09-04T08:35:22.167770Z",
     "iopub.status.idle": "2020-09-04T08:35:22.170714Z",
     "shell.execute_reply": "2020-09-04T08:35:22.170093Z"
    },
    "papermill": {
     "duration": 0.01547,
     "end_time": "2020-09-04T08:35:22.170831",
     "exception": false,
     "start_time": "2020-09-04T08:35:22.155361",
     "status": "completed"
    },
    "tags": []
   },
   "outputs": [],
   "source": [
    "Pipe = Pipeline([\n",
    "    ('bow',CountVectorizer(analyzer=cleaner)),\n",
    "    ('tfidf',TfidfTransformer()),\n",
    "    ('classifier', DecisionTreeClassifier())\n",
    "])"
   ]
  },
  {
   "cell_type": "code",
   "execution_count": 11,
   "metadata": {
    "execution": {
     "iopub.execute_input": "2020-09-04T08:35:22.229980Z",
     "iopub.status.busy": "2020-09-04T08:35:22.199110Z",
     "iopub.status.idle": "2020-09-04T08:35:33.903102Z",
     "shell.execute_reply": "2020-09-04T08:35:33.902572Z"
    },
    "papermill": {
     "duration": 11.725116,
     "end_time": "2020-09-04T08:35:33.903225",
     "exception": false,
     "start_time": "2020-09-04T08:35:22.178109",
     "status": "completed"
    },
    "tags": []
   },
   "outputs": [
    {
     "data": {
      "text/plain": [
       "Pipeline(steps=[('bow',\n",
       "                 CountVectorizer(analyzer=<function cleaner at 0x0000017ADCCADB88>)),\n",
       "                ('tfidf', TfidfTransformer()),\n",
       "                ('classifier', DecisionTreeClassifier())])"
      ]
     },
     "execution_count": 11,
     "metadata": {},
     "output_type": "execute_result"
    }
   ],
   "source": [
    "Pipe.fit(df['Questions'],df['Answers'])"
   ]
  },
  {
   "cell_type": "code",
   "execution_count": 12,
   "metadata": {},
   "outputs": [],
   "source": [
    "#from sklearn.metrics import accuracy_score\n",
    "#score = accuracy_score(df['Questions'],df['Answers'])\n",
    "#print(score)"
   ]
  },
  {
   "cell_type": "code",
   "execution_count": 13,
   "metadata": {},
   "outputs": [],
   "source": [
    "testdata = pd.read_csv('TestData.csv')"
   ]
  },
  {
   "cell_type": "code",
   "execution_count": 14,
   "metadata": {},
   "outputs": [
    {
     "data": {
      "text/html": [
       "<div>\n",
       "<style scoped>\n",
       "    .dataframe tbody tr th:only-of-type {\n",
       "        vertical-align: middle;\n",
       "    }\n",
       "\n",
       "    .dataframe tbody tr th {\n",
       "        vertical-align: top;\n",
       "    }\n",
       "\n",
       "    .dataframe thead th {\n",
       "        text-align: right;\n",
       "    }\n",
       "</style>\n",
       "<table border=\"1\" class=\"dataframe\">\n",
       "  <thead>\n",
       "    <tr style=\"text-align: right;\">\n",
       "      <th></th>\n",
       "      <th>I.D.</th>\n",
       "      <th>Question</th>\n",
       "    </tr>\n",
       "  </thead>\n",
       "  <tbody>\n",
       "    <tr>\n",
       "      <th>0</th>\n",
       "      <td>QN_1</td>\n",
       "      <td>i'll give you a speech like that, too.</td>\n",
       "    </tr>\n",
       "    <tr>\n",
       "      <th>1</th>\n",
       "      <td>QN_2</td>\n",
       "      <td>i know, you're absolutely right.</td>\n",
       "    </tr>\n",
       "    <tr>\n",
       "      <th>2</th>\n",
       "      <td>QN_3</td>\n",
       "      <td>i liked it.</td>\n",
       "    </tr>\n",
       "    <tr>\n",
       "      <th>3</th>\n",
       "      <td>QN_4</td>\n",
       "      <td>the baby was eight pounds six ounces.</td>\n",
       "    </tr>\n",
       "    <tr>\n",
       "      <th>4</th>\n",
       "      <td>QN_5</td>\n",
       "      <td>I was sold a wireless service unavailable in m...</td>\n",
       "    </tr>\n",
       "  </tbody>\n",
       "</table>\n",
       "</div>"
      ],
      "text/plain": [
       "   I.D.                                           Question\n",
       "0  QN_1             i'll give you a speech like that, too.\n",
       "1  QN_2                   i know, you're absolutely right.\n",
       "2  QN_3                                        i liked it.\n",
       "3  QN_4              the baby was eight pounds six ounces.\n",
       "4  QN_5  I was sold a wireless service unavailable in m..."
      ]
     },
     "execution_count": 14,
     "metadata": {},
     "output_type": "execute_result"
    }
   ],
   "source": [
    "testdata.head()"
   ]
  },
  {
   "cell_type": "code",
   "execution_count": 15,
   "metadata": {},
   "outputs": [],
   "source": [
    "b=testdata['Question'].values.tolist()"
   ]
  },
  {
   "cell_type": "code",
   "execution_count": 16,
   "metadata": {},
   "outputs": [],
   "source": [
    "pred= Pipe.predict(b)"
   ]
  },
  {
   "cell_type": "code",
   "execution_count": 17,
   "metadata": {},
   "outputs": [
    {
     "name": "stdout",
     "output_type": "stream",
     "text": [
      "Question: you shouldn't carry your keys and pens in your pocket.\n",
      "\n",
      "Bot Response: but that's what pockets are for.\n"
     ]
    }
   ],
   "source": [
    "print('Question:',testdata['Question'].iloc[55])\n",
    "print()\n",
    "print('Bot Response:',Pipe.predict(b)[55])"
   ]
  },
  {
   "cell_type": "code",
   "execution_count": 18,
   "metadata": {},
   "outputs": [
    {
     "name": "stdout",
     "output_type": "stream",
     "text": [
      "Question: Can you speak Japanese?\n",
      "\n",
      "Bot Response: No.\n"
     ]
    }
   ],
   "source": [
    "print('Question:',testdata['Question'].iloc[102])\n",
    "print()\n",
    "print('Bot Response:',Pipe.predict(b)[102])"
   ]
  },
  {
   "cell_type": "code",
   "execution_count": 19,
   "metadata": {},
   "outputs": [
    {
     "name": "stdout",
     "output_type": "stream",
     "text": [
      "Question: he's old enough to be my father, yet he asked me out.\n",
      "\n",
      "Bot Response: well, you can't blame a man for asking.\n"
     ]
    }
   ],
   "source": [
    "print('Question:',testdata['Question'].iloc[29])\n",
    "print()\n",
    "print('Bot Response:',Pipe.predict(b)[29])"
   ]
  },
  {
   "cell_type": "code",
   "execution_count": 20,
   "metadata": {},
   "outputs": [],
   "source": [
    "\n",
    "#Pipe.predict(['How are you?'])[0]"
   ]
  },
  {
   "cell_type": "code",
   "execution_count": 21,
   "metadata": {},
   "outputs": [],
   "source": [
    "a= pd.DataFrame(Pipe.predict(b), columns=['Answer'])"
   ]
  },
  {
   "cell_type": "code",
   "execution_count": 22,
   "metadata": {},
   "outputs": [
    {
     "data": {
      "text/html": [
       "<div>\n",
       "<style scoped>\n",
       "    .dataframe tbody tr th:only-of-type {\n",
       "        vertical-align: middle;\n",
       "    }\n",
       "\n",
       "    .dataframe tbody tr th {\n",
       "        vertical-align: top;\n",
       "    }\n",
       "\n",
       "    .dataframe thead th {\n",
       "        text-align: right;\n",
       "    }\n",
       "</style>\n",
       "<table border=\"1\" class=\"dataframe\">\n",
       "  <thead>\n",
       "    <tr style=\"text-align: right;\">\n",
       "      <th></th>\n",
       "      <th>Answer</th>\n",
       "    </tr>\n",
       "  </thead>\n",
       "  <tbody>\n",
       "    <tr>\n",
       "      <th>0</th>\n",
       "      <td>do you think anyone will come to my funeral?</td>\n",
       "    </tr>\n",
       "    <tr>\n",
       "      <th>1</th>\n",
       "      <td>i wish it would cool off one day.</td>\n",
       "    </tr>\n",
       "    <tr>\n",
       "      <th>2</th>\n",
       "      <td>i'll give you a speech like that, too.</td>\n",
       "    </tr>\n",
       "    <tr>\n",
       "      <th>3</th>\n",
       "      <td>it gives you money?</td>\n",
       "    </tr>\n",
       "    <tr>\n",
       "      <th>4</th>\n",
       "      <td>I see it here,we charged you $5 extra a month.</td>\n",
       "    </tr>\n",
       "  </tbody>\n",
       "</table>\n",
       "</div>"
      ],
      "text/plain": [
       "                                           Answer\n",
       "0    do you think anyone will come to my funeral?\n",
       "1               i wish it would cool off one day.\n",
       "2          i'll give you a speech like that, too.\n",
       "3                             it gives you money?\n",
       "4  I see it here,we charged you $5 extra a month."
      ]
     },
     "execution_count": 22,
     "metadata": {},
     "output_type": "execute_result"
    }
   ],
   "source": [
    "a.head()"
   ]
  },
  {
   "cell_type": "code",
   "execution_count": 35,
   "metadata": {},
   "outputs": [],
   "source": [
    "sub = pd.read_csv('TestData.csv')"
   ]
  },
  {
   "cell_type": "code",
   "execution_count": 36,
   "metadata": {},
   "outputs": [
    {
     "data": {
      "text/html": [
       "<div>\n",
       "<style scoped>\n",
       "    .dataframe tbody tr th:only-of-type {\n",
       "        vertical-align: middle;\n",
       "    }\n",
       "\n",
       "    .dataframe tbody tr th {\n",
       "        vertical-align: top;\n",
       "    }\n",
       "\n",
       "    .dataframe thead th {\n",
       "        text-align: right;\n",
       "    }\n",
       "</style>\n",
       "<table border=\"1\" class=\"dataframe\">\n",
       "  <thead>\n",
       "    <tr style=\"text-align: right;\">\n",
       "      <th></th>\n",
       "      <th>I.D.</th>\n",
       "      <th>Question</th>\n",
       "    </tr>\n",
       "  </thead>\n",
       "  <tbody>\n",
       "    <tr>\n",
       "      <th>0</th>\n",
       "      <td>QN_1</td>\n",
       "      <td>i'll give you a speech like that, too.</td>\n",
       "    </tr>\n",
       "    <tr>\n",
       "      <th>1</th>\n",
       "      <td>QN_2</td>\n",
       "      <td>i know, you're absolutely right.</td>\n",
       "    </tr>\n",
       "    <tr>\n",
       "      <th>2</th>\n",
       "      <td>QN_3</td>\n",
       "      <td>i liked it.</td>\n",
       "    </tr>\n",
       "    <tr>\n",
       "      <th>3</th>\n",
       "      <td>QN_4</td>\n",
       "      <td>the baby was eight pounds six ounces.</td>\n",
       "    </tr>\n",
       "    <tr>\n",
       "      <th>4</th>\n",
       "      <td>QN_5</td>\n",
       "      <td>I was sold a wireless service unavailable in m...</td>\n",
       "    </tr>\n",
       "  </tbody>\n",
       "</table>\n",
       "</div>"
      ],
      "text/plain": [
       "   I.D.                                           Question\n",
       "0  QN_1             i'll give you a speech like that, too.\n",
       "1  QN_2                   i know, you're absolutely right.\n",
       "2  QN_3                                        i liked it.\n",
       "3  QN_4              the baby was eight pounds six ounces.\n",
       "4  QN_5  I was sold a wireless service unavailable in m..."
      ]
     },
     "execution_count": 36,
     "metadata": {},
     "output_type": "execute_result"
    }
   ],
   "source": [
    "sub.head()"
   ]
  },
  {
   "cell_type": "code",
   "execution_count": 37,
   "metadata": {},
   "outputs": [
    {
     "data": {
      "text/html": [
       "<div>\n",
       "<style scoped>\n",
       "    .dataframe tbody tr th:only-of-type {\n",
       "        vertical-align: middle;\n",
       "    }\n",
       "\n",
       "    .dataframe tbody tr th {\n",
       "        vertical-align: top;\n",
       "    }\n",
       "\n",
       "    .dataframe thead th {\n",
       "        text-align: right;\n",
       "    }\n",
       "</style>\n",
       "<table border=\"1\" class=\"dataframe\">\n",
       "  <thead>\n",
       "    <tr style=\"text-align: right;\">\n",
       "      <th></th>\n",
       "      <th>I.D.</th>\n",
       "      <th>Question</th>\n",
       "      <th>Answer</th>\n",
       "    </tr>\n",
       "  </thead>\n",
       "  <tbody>\n",
       "    <tr>\n",
       "      <th>0</th>\n",
       "      <td>QN_1</td>\n",
       "      <td>i'll give you a speech like that, too.</td>\n",
       "      <td>do you think anyone will come to my funeral?</td>\n",
       "    </tr>\n",
       "    <tr>\n",
       "      <th>1</th>\n",
       "      <td>QN_2</td>\n",
       "      <td>i know, you're absolutely right.</td>\n",
       "      <td>i wish it would cool off one day.</td>\n",
       "    </tr>\n",
       "    <tr>\n",
       "      <th>2</th>\n",
       "      <td>QN_3</td>\n",
       "      <td>i liked it.</td>\n",
       "      <td>i'll give you a speech like that, too.</td>\n",
       "    </tr>\n",
       "    <tr>\n",
       "      <th>3</th>\n",
       "      <td>QN_4</td>\n",
       "      <td>the baby was eight pounds six ounces.</td>\n",
       "      <td>it gives you money?</td>\n",
       "    </tr>\n",
       "    <tr>\n",
       "      <th>4</th>\n",
       "      <td>QN_5</td>\n",
       "      <td>I was sold a wireless service unavailable in m...</td>\n",
       "      <td>I see it here,we charged you $5 extra a month.</td>\n",
       "    </tr>\n",
       "    <tr>\n",
       "      <th>...</th>\n",
       "      <td>...</td>\n",
       "      <td>...</td>\n",
       "      <td>...</td>\n",
       "    </tr>\n",
       "    <tr>\n",
       "      <th>538</th>\n",
       "      <td>QN_539</td>\n",
       "      <td>at night i went out to eat. the food was delic...</td>\n",
       "      <td>people who live in hawaii are lucky.</td>\n",
       "    </tr>\n",
       "    <tr>\n",
       "      <th>539</th>\n",
       "      <td>QN_540</td>\n",
       "      <td>TELL ME ABOUT BASEBALL</td>\n",
       "      <td>What is Baseball</td>\n",
       "    </tr>\n",
       "    <tr>\n",
       "      <th>540</th>\n",
       "      <td>QN_541</td>\n",
       "      <td>you'll remember to do it, but you won't have t...</td>\n",
       "      <td>okay, i'll take it out front right now.</td>\n",
       "    </tr>\n",
       "    <tr>\n",
       "      <th>541</th>\n",
       "      <td>QN_542</td>\n",
       "      <td>you are not smart</td>\n",
       "      <td>you are not exactly albert einstein yourself.</td>\n",
       "    </tr>\n",
       "    <tr>\n",
       "      <th>542</th>\n",
       "      <td>QN_543</td>\n",
       "      <td>what do you mean?</td>\n",
       "      <td>I mean, it's just coffee.</td>\n",
       "    </tr>\n",
       "  </tbody>\n",
       "</table>\n",
       "<p>543 rows × 3 columns</p>\n",
       "</div>"
      ],
      "text/plain": [
       "       I.D.                                           Question  \\\n",
       "0      QN_1             i'll give you a speech like that, too.   \n",
       "1      QN_2                   i know, you're absolutely right.   \n",
       "2      QN_3                                        i liked it.   \n",
       "3      QN_4              the baby was eight pounds six ounces.   \n",
       "4      QN_5  I was sold a wireless service unavailable in m...   \n",
       "..      ...                                                ...   \n",
       "538  QN_539  at night i went out to eat. the food was delic...   \n",
       "539  QN_540                             TELL ME ABOUT BASEBALL   \n",
       "540  QN_541  you'll remember to do it, but you won't have t...   \n",
       "541  QN_542                                  you are not smart   \n",
       "542  QN_543                                  what do you mean?   \n",
       "\n",
       "                                             Answer  \n",
       "0      do you think anyone will come to my funeral?  \n",
       "1                 i wish it would cool off one day.  \n",
       "2            i'll give you a speech like that, too.  \n",
       "3                               it gives you money?  \n",
       "4    I see it here,we charged you $5 extra a month.  \n",
       "..                                              ...  \n",
       "538            people who live in hawaii are lucky.  \n",
       "539                                What is Baseball  \n",
       "540         okay, i'll take it out front right now.  \n",
       "541   you are not exactly albert einstein yourself.  \n",
       "542                       I mean, it's just coffee.  \n",
       "\n",
       "[543 rows x 3 columns]"
      ]
     },
     "execution_count": 37,
     "metadata": {},
     "output_type": "execute_result"
    }
   ],
   "source": [
    "#df = pd.DataFrame(data)\n",
    "  \n",
    "# Using DataFrame.insert() to add a column\n",
    "sub.insert(2, \"Answer\", pred, True)\n",
    "  \n",
    "# Observe the result\n",
    "sub"
   ]
  },
  {
   "cell_type": "code",
   "execution_count": 38,
   "metadata": {},
   "outputs": [],
   "source": [
    "sub.drop(['Question'], axis = 1,inplace=True)"
   ]
  },
  {
   "cell_type": "code",
   "execution_count": 39,
   "metadata": {},
   "outputs": [],
   "source": [
    "sub.to_csv('Zahid_2.csv',index=False)"
   ]
  },
  {
   "cell_type": "code",
   "execution_count": null,
   "metadata": {},
   "outputs": [],
   "source": [
    "#sub.Answer=pred\n",
    "#sub.rename(columns = {'Question':'Answer'}, inplace = True)\n",
    "#sub.to_csv('Zahid_1.csv', header=True, index=False)"
   ]
  },
  {
   "cell_type": "code",
   "execution_count": null,
   "metadata": {
    "papermill": {
     "duration": 0.006931,
     "end_time": "2020-09-04T08:35:33.917845",
     "exception": false,
     "start_time": "2020-09-04T08:35:33.910914",
     "status": "completed"
    },
    "tags": []
   },
   "outputs": [],
   "source": []
  }
 ],
 "metadata": {
  "kernelspec": {
   "display_name": "Python 3",
   "language": "python",
   "name": "python3"
  },
  "language_info": {
   "codemirror_mode": {
    "name": "ipython",
    "version": 3
   },
   "file_extension": ".py",
   "mimetype": "text/x-python",
   "name": "python",
   "nbconvert_exporter": "python",
   "pygments_lexer": "ipython3",
   "version": "3.7.4"
  },
  "papermill": {
   "duration": 18.829368,
   "end_time": "2020-09-04T08:35:34.156977",
   "environment_variables": {},
   "exception": null,
   "input_path": "__notebook__.ipynb",
   "output_path": "__notebook__.ipynb",
   "parameters": {},
   "start_time": "2020-09-04T08:35:15.327609",
   "version": "2.1.0"
  }
 },
 "nbformat": 4,
 "nbformat_minor": 4
}
